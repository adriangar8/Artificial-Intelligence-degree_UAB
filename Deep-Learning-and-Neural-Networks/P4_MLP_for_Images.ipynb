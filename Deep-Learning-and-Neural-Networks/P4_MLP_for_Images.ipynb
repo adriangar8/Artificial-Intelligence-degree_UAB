{
  "cells": [
    {
      "cell_type": "markdown",
      "metadata": {
        "id": "view-in-github"
      },
      "source": [
        "<a href=\"https://colab.research.google.com/github/dkaratzas/DL2022-23/blob/main/Problems%204%20-%20MLP%20for%20Images/P4_MLP_for_Images.ipynb\" target=\"_parent\"><img src=\"https://colab.research.google.com/assets/colab-badge.svg\" alt=\"Open In Colab\"/></a>"
      ]
    },
    {
      "cell_type": "markdown",
      "metadata": {
        "id": "iGG07e8kF1f_"
      },
      "source": [
        "[![Open In SageMaker Studio Lab](https://studiolab.sagemaker.aws/studiolab.svg)](https://studiolab.sagemaker.aws/import/github/dkaratzas/DL2022-23/blob/main/Problems%204%20-%20MLP%20for%20Images/P4_MLP_for_Images.ipynb)"
      ]
    },
    {
      "cell_type": "markdown",
      "metadata": {
        "id": "tDXy4Tw41nhs"
      },
      "source": [
        "# MLP for image classification\n",
        "\n",
        "In this notebook we are going to learn how to use a Multi-Layer Perceptron (MLP) (Fully-Connected, Feed-Forward Network) for classifying images.\n",
        "\n",
        "An MLP like the ones you used in the notebook of last week can be used with any kind of input data if we can represent it as a vector of real numbers. The shape of the input vector determines the size of the first layer in the model.\n",
        "\n",
        "In the case of images (2D arrays of pixel values) we can get fixed-length vectors by: (1) using always images of the same size, and (2) flatenning the images into a 1D array. The flatten operation collapses an array into one dimension. For example, if we have a grayscale image of $28\\times28$ pixels, its flattened version is a 1d array of $784$ pixel values. Now we can fed these $784$ values into a MLP for classifiying the image."
      ]
    },
    {
      "cell_type": "markdown",
      "metadata": {
        "id": "EA11sg141nhu"
      },
      "source": [
        "### Import the necessary libraries"
      ]
    },
    {
      "cell_type": "code",
      "execution_count": 58,
      "metadata": {
        "id": "YIr2ty0tFA4C"
      },
      "outputs": [],
      "source": [
        "import torch #should be installed by default in any colab notebook\n",
        "import numpy as np\n",
        "import matplotlib.pyplot as plt\n",
        "from IPython import display\n",
        "import torch.nn as nn\n",
        "import torch.nn.functional as F\n",
        "import torch.optim as optim\n",
        "from torchvision import datasets, transforms\n",
        "import matplotlib.pyplot as plt"
      ]
    },
    {
      "cell_type": "markdown",
      "metadata": {
        "id": "zOd19Vsh1nhw"
      },
      "source": [
        "### Use GPU if available"
      ]
    },
    {
      "cell_type": "code",
      "execution_count": 59,
      "metadata": {
        "id": "gWLIxo9Oigfo"
      },
      "outputs": [],
      "source": [
        "# If this cell fails you need to change the runtime of your colab notebook to GPU\n",
        "# Go to Runtime -> Change Runtime Type and select GPU\n",
        "#assert torch.cuda.is_available(), \"GPU is not enabled\"\n",
        "\n",
        "# use gpu if available\n",
        "device = torch.device(\"cuda:0\" if torch.cuda.is_available() else \"cpu\")"
      ]
    },
    {
      "cell_type": "markdown",
      "metadata": {
        "id": "eI_YXyigdTUC"
      },
      "source": [
        "## The Fashion-MNIST dataset\n",
        "\n",
        "[**Fashion-MNIST**](https://pytorch.org/vision/0.8/datasets.html#fashion-mnist) is a dataset consisting of a training set of $60,000$ examples and a test set of $10,000$ examples. Each example is a $28\\times28$ grayscale image, associated with a label from $10$ classes. It was proposed as a direct drop-in replacement for the original MNIST dataset for benchmarking machine learning algorithms. It shares the same image size and structure of training and testing splits.\n",
        "\n",
        "Each training and test example is assigned to one of the following labels: 0 T-shirt/top, 1 Trouser, 2 Pullover, 3 Dress, 4 Coat, 5 Sandal, 6 Shirt, 7 Sneaker, 8 Bag, 9 Ankle boot.\n",
        "\n",
        "The Fashion-MNIST dataset is available in [torchvision](https://pytorch.org/vision/stable/index.html) and can be loaded with the following code:"
      ]
    },
    {
      "cell_type": "code",
      "execution_count": 60,
      "metadata": {
        "colab": {
          "base_uri": "https://localhost:8080/"
        },
        "id": "m7kr-LrSZK7h",
        "outputId": "aa4131e7-2f0d-4a98-8cf2-e8e9372b60fa"
      },
      "outputs": [
        {
          "output_type": "stream",
          "name": "stdout",
          "text": [
            "torch.Size([60000, 28, 28]) torch.Size([10000, 28, 28])\n",
            "torch.Size([60000]) torch.Size([10000])\n"
          ]
        }
      ],
      "source": [
        "train_set = datasets.FashionMNIST(\"data\", train=True, download=True, transform=transforms.Compose([transforms.ToTensor()]))\n",
        "val_set = datasets.FashionMNIST(\"data\", train=False, download=True, transform=transforms.Compose([transforms.ToTensor()]))\n",
        "\n",
        "print(train_set.data.size(), val_set.data.size())\n",
        "print(train_set.targets.size(), val_set.targets.size())"
      ]
    },
    {
      "cell_type": "code",
      "execution_count": 61,
      "metadata": {
        "colab": {
          "base_uri": "https://localhost:8080/",
          "height": 261
        },
        "id": "aXkcjpbn1nh0",
        "outputId": "d1fd6bb2-13ef-4717-bb02-36e72969c73c"
      },
      "outputs": [
        {
          "output_type": "display_data",
          "data": {
            "text/plain": [
              "<Figure size 1152x432 with 10 Axes>"
            ],
            "image/png": "[encoded data removed]"
          },
          "metadata": {
            "needs_background": "light"
          }
        }
      ],
      "source": [
        "# show some images\n",
        "plt.figure(figsize=(16, 6))\n",
        "for i in range(10):\n",
        "    plt.subplot(2, 5, i + 1)\n",
        "    image = train_set.data[i,...]\n",
        "    plt.imshow(image.squeeze().numpy(), cmap=\"gray\")\n",
        "    plt.axis('off');"
      ]
    },
    {
      "cell_type": "markdown",
      "metadata": {
        "id": "uji6itK71nh0"
      },
      "source": [
        "<font color=\"blue\">**Exercise 1**: When we loaded the Fashion-MNIST dataset we used the method `transforms.Compose`. Take a look at the documentation of [torchvision.transforms](https://pytorch.org/vision/0.8/transforms.html?highlight=transforms). Is there another transform that we can add to make our classification problem easier?</font>"
      ]
    },
    {
      "cell_type": "markdown",
      "metadata": {
        "id": "WCkQ9jX_1nh1"
      },
      "source": [
        "---\n",
        "\n",
        "Note that transforms.Compose allows you to combine multiple image transformations into a single pipeline and takes a list of transformation functions as its input and applies them sequentially to the input image or dataset.\n",
        "\n",
        "As the Fashion- MNIST dataset consists of grayscale images with pixel values ranging from 0 to 255 the Z- score normalization approach seems to be a good option as it will scale the images to the range [0- 1].\n",
        "\n",
        "***Implementation of the code:***\n",
        "\n",
        "mean = (0.286,)\n",
        "std = (0.353,)\n",
        "\n",
        "transform_pipeline = transforms.Compose([\n",
        "    transforms.ToTensor(),\n",
        "    transforms.Normalize(mean, std),\n",
        "])\n",
        "\n",
        "Some alternative transformations which can be applied are the following:\n",
        "\n",
        "- Random rotation: Apply small randm rotaitons to the images in order to make the model learn to recognize objects at various angles. (*transforms.RandomRotation()*)\n",
        "- Random affine transformations: Apply random affine transformations like translation, scalling, and rotation in order to help the model become more robust to small transformations. (*transforms.RandomAffine()*)\n",
        "\n",
        "---"
      ]
    },
    {
      "cell_type": "markdown",
      "metadata": {
        "id": "vdJFRmQI1nh1"
      },
      "source": [
        "# Dataloaders\n",
        "\n",
        "Now we introduce a **critical piece in any deep learning training process**: the dataloader. In Pytorch we can create a dataloader for a given dataset as follows:\n"
      ]
    },
    {
      "cell_type": "markdown",
      "source": [
        "*`Aclaration`*:\n",
        "\n",
        "A **DataLoader** is a utility class in deep learning frameworks like PyTorch that helps with the process of loading and handling data during training and evaluation of neural networks. It is responsible for efficiently managing the data by performing tasks such as batching, shuffling, and parallel loading.\n",
        "\n",
        "Here are some key features of a DataLoader:\n",
        "\n",
        "1. **Batching**: DataLoader groups the data into smaller batches, which are then fed into the neural network during training. This is particularly useful when working with large datasets that cannot fit entirely in memory. Training with mini-batches also helps improve the stability of the optimization process and can lead to faster convergence.\n",
        "\n",
        "2. **Shuffling**: DataLoader can shuffle the data, which is essential for reducing overfitting and ensuring that the model learns from diverse samples. Shuffling is typically done at the beginning of each epoch during training to present the data in a different order to the model.\n",
        "\n",
        "3. **Parallel loading**: DataLoader can load data in parallel using multiple worker processes, which helps speed up data loading and preprocessing, particularly when working with large datasets and computationally expensive transformations.\n",
        "\n",
        "4. **Data sampling**: DataLoader can be configured to use different sampling strategies, such as random sampling or weighted sampling, which can help balance the class distribution in the dataset or prioritize certain samples during training.\n",
        "\n"
      ],
      "metadata": {
        "id": "OK56S4ZZPt-a"
      }
    },
    {
      "cell_type": "code",
      "execution_count": 62,
      "metadata": {
        "id": "2Aa_bSYB1nh2"
      },
      "outputs": [],
      "source": [
        "train_loader = torch.utils.data.DataLoader(train_set, batch_size=1, shuffle=False, num_workers=0)\n",
        "val_loader = torch.utils.data.DataLoader(val_set, batch_size=1, shuffle=False, num_workers=0)"
      ]
    },
    {
      "cell_type": "markdown",
      "metadata": {
        "id": "yGzwkWcD1nh2"
      },
      "source": [
        "<font color=\"blue\">**Exercise 2**: Take a look at the documentation of [torch.utils.data.DataLoader](https://pytorch.org/docs/stable/data.html?highlight=dataloader#torch.utils.data.DataLoader) and answer the following questions:</font>\n",
        "\n",
        "<font color=\"blue\">- What are the benefits of a dataloader?</font>\n",
        "\n",
        "<font color=\"blue\">- How can we make the dataloaders defined above better?</font>"
      ]
    },
    {
      "cell_type": "markdown",
      "metadata": {
        "id": "NTzLmxGk1nh3"
      },
      "source": [
        "---\n",
        "\n",
        "The main benefits of using a dataloader are the following:\n",
        "\n",
        "1. Data handling: Process data in smaller batches, which helps manage memory usage and enables training on datasets that cannot fit entirely n memory.\n",
        "2. Training stability: By using mini- batches the stability of the optimization process and a faster convergence compared to using entire dataset at once.\n",
        "3. Data shuffling: By using DataLoaders the shuffle of the data can be done at the beginning of each epoch, which helps reduce overfitting and ensures that the model learns from diverse samples.\n",
        "4. Custom data sampling: Dataloaders can be configured with different sampling strategies, such as random sampling or weighted sampling.\n",
        "\n",
        "In regards to the DataLoader defined above the following changes could be made in order to improve it:\n",
        "\n",
        "- Increase the batch size.\n",
        "- Enable shuffling: Shuffling the data during training can help the model to better generalize by reducing the risk of learning spurious correlations in the data.\n",
        "- Increase the number of workers.\n",
        "\n",
        "---"
      ]
    },
    {
      "cell_type": "markdown",
      "metadata": {
        "id": "1E0erJUq1nh3"
      },
      "source": [
        "<font color=\"blue\">**Exercise 3**: Now re-define the datasets and the dataloaders, and introduce normalisation (use the average of image means and stds of the training set for this), turn shuffling on, and use a batch size of 32.</font>"
      ]
    },
    {
      "cell_type": "code",
      "execution_count": 63,
      "metadata": {
        "id": "D_xxk5vj1nh4",
        "colab": {
          "base_uri": "https://localhost:8080/"
        },
        "outputId": "6b135b49-4185-46f3-e25c-c0fdc2752b6b"
      },
      "outputs": [
        {
          "output_type": "stream",
          "name": "stderr",
          "text": [
            "/usr/local/lib/python3.9/dist-packages/torch/utils/data/dataloader.py:554: UserWarning: This DataLoader will create 4 worker processes in total. Our suggested max number of worker in current system is 2, which is smaller than what this DataLoader is going to create. Please be aware that excessive worker creation might get DataLoader running slow or even freeze, lower the worker number to avoid potential slowness/freeze if necessary.\n",
            "  warnings.warn(_create_warning_msg(\n"
          ]
        }
      ],
      "source": [
        "# Your Code Here\n",
        "\n",
        "# Compute the mean and standard deviation of the training set\n",
        "train_set_temp = datasets.FashionMNIST(\"data\", train=True, download=True, transform=transforms.ToTensor())\n",
        "mean = torch.tensor(train_set_temp.data.numpy()).float().mean() / 255.0 # compute the mean\n",
        "std = torch.tensor(train_set_temp.data.numpy()).float().std() / 255.0 # compute the standard deviation\n",
        "\n",
        "# Define the normalization transform\n",
        "normalize = transforms.Normalize((mean,), (std,))\n",
        "\n",
        "# Define the datasets with normalization\n",
        "train_set = datasets.FashionMNIST(\"data\", train=True, download=True, transform=transforms.Compose([transforms.ToTensor(), normalize]))\n",
        "val_set = datasets.FashionMNIST(\"data\", train=False, download=True, transform=transforms.Compose([transforms.ToTensor(), normalize]))\n",
        "\n",
        "# Define the dataloaders with batch size 32 and shuffling enabled\n",
        "train_loader = torch.utils.data.DataLoader(train_set, batch_size=32, shuffle=True, num_workers=4)\n",
        "val_loader = torch.utils.data.DataLoader(val_set, batch_size=32, shuffle=True, num_workers=4)"
      ]
    },
    {
      "cell_type": "markdown",
      "metadata": {
        "id": "e-WSDzgqcsY4"
      },
      "source": [
        "<font color=\"blue\">**Exercise 4**: Define the class for an MLP with two hidden layers using ReLU activations. The sizes of the input, output and hidden layers should be given during initialisation (using the `__init__()` class constructor parameters).</font>"
      ]
    },
    {
      "cell_type": "code",
      "execution_count": 64,
      "metadata": {
        "id": "uvfwZqcPoAdT"
      },
      "outputs": [],
      "source": [
        "# Your Code Here\n",
        "class FCModel(nn.Module):\n",
        "    def __init__(self, input_size, hidden_size, output_size):\n",
        "        super(FCModel, self).__init__()\n",
        "        self.input_size = input_size\n",
        "        self.network = nn.Sequential(\n",
        "            nn.Linear(input_size, hidden_size),\n",
        "            nn.ReLU(),\n",
        "            nn.Linear(hidden_size, hidden_size),\n",
        "            nn.ReLU(),\n",
        "            nn.Linear(hidden_size, output_size)\n",
        "        )\n",
        "\n",
        "    def forward(self, x):\n",
        "        x = x.view(-1, self.input_size)\n",
        "        return self.network(x)"
      ]
    },
    {
      "cell_type": "markdown",
      "metadata": {
        "id": "VsPUyLUO1nh6"
      },
      "source": [
        "## Parameter Initialization\n",
        "\n",
        "In PyTorch the default parameter initialization depends on the layer type. For example, for the Linear layer the default initialization is defined [here](https://github.com/pytorch/pytorch/blob/master/torch/nn/modules/linear.py#L87). Take a look and see if you recognize the initialization method.\n",
        "\n",
        "You can find more initialization methods in the [`torch.nn.init`](https://pytorch.org/docs/stable/nn.init.html?highlight=init) module.\n",
        "\n",
        "If necessary, you can change the default initialization of a layer as follows:"
      ]
    },
    {
      "cell_type": "code",
      "execution_count": 65,
      "metadata": {
        "id": "HLSfT6eZcXTI"
      },
      "outputs": [],
      "source": [
        "def initialize_parameters(model):\n",
        "    for name, w in model.named_parameters():\n",
        "        if \"weight\" in name:\n",
        "            nn.init.ones_(w) # if it is a weight initialize it to one\n",
        "        \n",
        "        if \"bias\" in name:\n",
        "            nn.init.zeros_(w) # if it is a bias initialize it to zero"
      ]
    },
    {
      "cell_type": "markdown",
      "metadata": {
        "id": "Ty27ZXvU1nh7"
      },
      "source": [
        "## Create the model and initialize its parameters"
      ]
    },
    {
      "cell_type": "code",
      "execution_count": 66,
      "metadata": {
        "colab": {
          "base_uri": "https://localhost:8080/"
        },
        "id": "oAoS_kiRZPYT",
        "outputId": "695ef757-3a49-4c80-efad-bc25f255f69b"
      },
      "outputs": [
        {
          "output_type": "stream",
          "name": "stdout",
          "text": [
            "Number of parameters 118282:\n"
          ]
        }
      ],
      "source": [
        "learning_rate = 1e-3\n",
        "lambda_l2 = 1e-5\n",
        "torch.manual_seed(0) # seed for reproductibility\n",
        "\n",
        "input_size  = 28*28   # images are 28x28 pixels\n",
        "output_size = 10      # there are 10 classes\n",
        "\n",
        "model = FCModel(input_size, 128, output_size)\n",
        "\n",
        "# utility function to count number of parameters in a model\n",
        "def get_n_params(model):\n",
        "    np=0\n",
        "    for p in list(model.parameters()):\n",
        "        np += p.numel()\n",
        "    return np\n",
        "\n",
        "print(f\"Number of parameters {get_n_params(model)}:\")\n",
        "\n",
        "# move model to gpu if available\n",
        "model.to(device)\n",
        "\n",
        "# nn package also has different loss functions.\n",
        "# we use cross entropy loss for our classification task\n",
        "criterion = torch.nn.CrossEntropyLoss() # https://pytorch.org/docs/stable/generated/torch.nn.CrossEntropyLoss.html#torch.nn.CrossEntropyLoss\n",
        "\n",
        "# we use the optim package to apply\n",
        "# stochastic gradient descent for our parameter updates\n",
        "optimizer = torch.optim.SGD(model.parameters(), lr=learning_rate, momentum=0.9, weight_decay=lambda_l2) # built-in L2\n",
        "\n",
        "# WARNING! What are we doing here? | weitghs: ones, bias: zeros\n",
        "initialize_parameters(model)"
      ]
    },
    {
      "cell_type": "markdown",
      "metadata": {
        "id": "Fe3gLXIX1nh8"
      },
      "source": [
        "## Define the train and validation methods\n",
        "\n",
        "The following code should be easy to follow, but please note the following:\n",
        "\n",
        "Here we use the function `torch.no_grad()` when we want to indicate to PyTorch that we do not want to calculate gradients. This saves a lot of computation and time, and we use it for example when we want to validate our model, when only forward calculations are needed. There are two ways to apply this function, and you can read about it here:\n",
        "https://pytorch.org/docs/stable/generated/torch.no_grad.html\n",
        "\n",
        "The way we use below is called a \"decorator\" function. It is a special super-power of python, and you can read more about it here:\n",
        "https://realpython.com/primer-on-python-decorators/\n",
        "\n",
        "Do not confuse `torch.no_grad()` with `model.eval()` and `model.train()`. The purpose of these two latter functions is to setup our model in different modes. This is very useful if you use layers that work in a different way during training and during evaluation, for example Dropout or Batch Normalisation. The model therefore needs to know how you are using it at any given time."
      ]
    },
    {
      "cell_type": "code",
      "execution_count": 67,
      "metadata": {
        "id": "voDADNIzj4wV"
      },
      "outputs": [],
      "source": [
        "@torch.no_grad()  # prevent this function from computing gradients see https://pytorch.org/docs/stable/generated/torch.no_grad.html\n",
        "def validate(criterion, model, loader):\n",
        "\n",
        "    val_loss = 0\n",
        "    correct = 0\n",
        "\n",
        "    model.eval()\n",
        "\n",
        "    for data, target in loader:\n",
        "\n",
        "        data, target = data.to(device), target.to(device)\n",
        "\n",
        "        data = data.view(-1, 28*28)\n",
        "        output = model(data)\n",
        "        loss = criterion(output, target)\n",
        "        val_loss += loss.item()                                                              \n",
        "        pred = output.data.max(1, keepdim=True)[1] # get the index of the max log-probability                                                                 \n",
        "        correct += pred.eq(target.view_as(pred)).sum().item()\n",
        "\n",
        "    val_loss /= len(loader.dataset)\n",
        "    accuracy = 100. * correct / len(loader.dataset)\n",
        "    print('\\nTest set: Average loss: {:.4f}, Accuracy: {}/{} ({:.0f}%)\\n'.format(\n",
        "        val_loss, correct, len(loader.dataset),\n",
        "        accuracy))\n",
        "\n",
        "\n",
        "    return val_loss\n",
        "\n",
        "\n",
        "def train(epoch, criterion, model, optimizer, loader):\n",
        "    \n",
        "    total_loss = 0.0\n",
        "\n",
        "    model.train()\n",
        "\n",
        "    for batch_idx, (data, target) in enumerate(loader):\n",
        "        \n",
        "        optimizer.zero_grad()\n",
        "\n",
        "        data, target = data.to(device), target.to(device)\n",
        "\n",
        "        data = data.view(-1, 28*28)\n",
        "\n",
        "        output = model(data)\n",
        "        loss = criterion(output, target)\n",
        "        loss.backward()\n",
        "        optimizer.step()\n",
        "        \n",
        "        # print loss every N iterations\n",
        "        if batch_idx % 100 == 0:\n",
        "            print('Train Epoch: {} [{}/{} ({:.0f}%)]\\tLoss: {:.6f}'.format(\n",
        "                epoch, batch_idx * len(data), len(loader.dataset),\n",
        "                100. * batch_idx / len(loader), loss.item()))\n",
        "\n",
        "        total_loss += loss.item()  #.item() is very important here? Why?\n",
        "\n",
        "    return total_loss / len(loader.dataset)"
      ]
    },
    {
      "cell_type": "markdown",
      "metadata": {
        "id": "_Prc0qFO0SR5"
      },
      "source": [
        "### The training loop"
      ]
    },
    {
      "cell_type": "code",
      "execution_count": null,
      "metadata": {
        "id": "psBKsIFAtkXQ",
        "colab": {
          "base_uri": "https://localhost:8080/",
          "height": 265
        },
        "outputId": "fe3d84b6-18b4-46d0-a1d6-25a9f3cc5480"
      },
      "outputs": [
        {
          "output_type": "display_data",
          "data": {
            "text/plain": [
              "<Figure size 432x288 with 1 Axes>"
            ],
            "image/png": "[encoded data removed]"
          },
          "metadata": {
            "needs_background": "light"
          }
        }
      ],
      "source": [
        "losses = {\"train\": [], \"val\": []}\n",
        "for epoch in range(10):\n",
        "\n",
        "    train_loss = train(epoch, criterion, model, optimizer, train_loader)\n",
        "    val_loss = validate(criterion, model, val_loader)\n",
        "    losses[\"train\"].append(train_loss)\n",
        "    losses[\"val\"].append(val_loss)\n",
        "    \n",
        "    display.clear_output(wait=True)\n",
        "\n",
        "    plt.plot(losses[\"train\"], label=\"training loss\")\n",
        "    plt.plot(losses[\"val\"], label=\"validation loss\")\n",
        "\n",
        "    plt.legend()\n",
        "    plt.pause(0.000001)\n",
        "    plt.show()   "
      ]
    },
    {
      "cell_type": "markdown",
      "metadata": {
        "id": "v345dFG1DA2w"
      },
      "source": [
        "# Visualising Results"
      ]
    },
    {
      "cell_type": "markdown",
      "metadata": {
        "id": "x9GKcptqC_Cq"
      },
      "source": [
        "It may also be useful to visualize some qualitative examples of classification "
      ]
    },
    {
      "cell_type": "code",
      "execution_count": null,
      "metadata": {
        "id": "YDjLl_8EC_C6",
        "colab": {
          "base_uri": "https://localhost:8080/",
          "height": 283
        },
        "outputId": "4ac9c12e-4d3d-4f62-b3a4-23d0613d99a2"
      },
      "outputs": [
        {
          "output_type": "display_data",
          "data": {
            "text/plain": [
              "<Figure size 1152x432 with 10 Axes>"
            ],
            "image/png": "[encoded data removed]"
          },
          "metadata": {
            "needs_background": "light"
          }
        }
      ],
      "source": [
        "with torch.no_grad():\n",
        "\n",
        "    data, target = next(iter(val_loader))\n",
        "    data, target = data.to(device), target.to(device)\n",
        "\n",
        "    data = data.view(-1, 28*28)\n",
        "    output = model(data)\n",
        "    predictions = np.argmax(output.cpu().numpy(), axis=1).tolist()\n",
        "    true = target.cpu().numpy().tolist()\n",
        "      \n",
        "    plt.figure(figsize=(16, 6))\n",
        "    for i in range(10):\n",
        "        plt.subplot(2, 5, i + 1)\n",
        "        image = data[i,...].cpu().numpy().reshape((28,28))\n",
        "        plt.imshow(image, cmap=\"gray\")\n",
        "        plt.axis('off')\n",
        "        plt.title('Predicted as {}\\n True label is {}'.format(val_set.classes[predictions[i]], val_set.classes[true[i]], ))"
      ]
    },
    {
      "cell_type": "markdown",
      "metadata": {
        "id": "EcgjBWogo1N1"
      },
      "source": [
        "# Homework"
      ]
    },
    {
      "cell_type": "markdown",
      "metadata": {
        "id": "7wTgnuL6Btpw"
      },
      "source": [
        "<font color=\"blue\">**Exercise 5**: Change the initialization of the model parameters (this will help a great deal) and train your model on the Fashion-MNIST dataset.</font>"
      ]
    },
    {
      "cell_type": "code",
      "source": [
        "def initialize_parameters(model):\n",
        "    for name, w in model.named_parameters():\n",
        "        if \"weight\" in name:\n",
        "            nn.init.xavier_uniform_(w)  # Use Xavier initialization for weights\n",
        "        if \"bias\" in name:\n",
        "            nn.init.zeros_(w)  # # Initialize bias to zero"
      ],
      "metadata": {
        "id": "m_WfSwJx_fTV"
      },
      "execution_count": 68,
      "outputs": []
    },
    {
      "cell_type": "code",
      "execution_count": 69,
      "metadata": {
        "id": "DWBimyZV1nh-",
        "colab": {
          "base_uri": "https://localhost:8080/"
        },
        "outputId": "ee92ff90-e2e9-44fe-faa0-7a73846c60c4"
      },
      "outputs": [
        {
          "output_type": "stream",
          "name": "stdout",
          "text": [
            "Number of parameters 118282:\n"
          ]
        }
      ],
      "source": [
        "# Your Code Here\n",
        "learning_rate = 1e-3\n",
        "lambda_l2 = 1e-5\n",
        "torch.manual_seed(0) # seed for reproductibility\n",
        "\n",
        "input_size  = 28*28   # images are 28x28 pixels\n",
        "output_size = 10      # there are 10 classes\n",
        "\n",
        "model = FCModel(input_size, 128, output_size)\n",
        "\n",
        "# utility function to count number of parameters in a model\n",
        "def get_n_params(model):\n",
        "    np=0\n",
        "    for p in list(model.parameters()):\n",
        "        np += p.numel()\n",
        "    return np\n",
        "\n",
        "print(f\"Number of parameters {get_n_params(model)}:\")\n",
        "\n",
        "# move model to gpu if available\n",
        "model.to(device)\n",
        "\n",
        "# nn package also has different loss functions.\n",
        "# we use cross entropy loss for our classification task\n",
        "criterion = torch.nn.CrossEntropyLoss() # https://pytorch.org/docs/stable/generated/torch.nn.CrossEntropyLoss.html#torch.nn.CrossEntropyLoss\n",
        "\n",
        "# we use the optim package to apply\n",
        "# stochastic gradient descent for our parameter updates\n",
        "optimizer = torch.optim.SGD(model.parameters(), lr=learning_rate, momentum=0.9, weight_decay=lambda_l2) # built-in L2\n",
        "\n",
        "# WARNING! What are we doing here? | weitghs: ones, bias: zeros\n",
        "initialize_parameters(model)"
      ]
    },
    {
      "cell_type": "code",
      "source": [
        "losses = {\"train\": [], \"val\": []}\n",
        "for epoch in range(10):\n",
        "\n",
        "    train_loss = train(epoch, criterion, model, optimizer, train_loader)\n",
        "    val_loss = validate(criterion, model, val_loader)\n",
        "    losses[\"train\"].append(train_loss)\n",
        "    losses[\"val\"].append(val_loss)\n",
        "    \n",
        "    display.clear_output(wait=True)\n",
        "\n",
        "    plt.plot(losses[\"train\"], label=\"training loss\")\n",
        "    plt.plot(losses[\"val\"], label=\"validation loss\")\n",
        "\n",
        "    plt.legend()\n",
        "    plt.pause(0.000001)\n",
        "    plt.show()   "
      ],
      "metadata": {
        "id": "9l6U2U-Dyscb",
        "colab": {
          "base_uri": "https://localhost:8080/",
          "height": 265
        },
        "outputId": "994cfae7-e31c-4963-959c-bd89816af13b"
      },
      "execution_count": 70,
      "outputs": [
        {
          "output_type": "display_data",
          "data": {
            "text/plain": [
              "<Figure size 432x288 with 1 Axes>"
            ],
            "image/png": "[encoded data removed]"
          },
          "metadata": {
            "needs_background": "light"
          }
        }
      ]
    },
    {
      "cell_type": "code",
      "execution_count": 71,
      "metadata": {
        "id": "f2K2J1nB1nh_",
        "colab": {
          "base_uri": "https://localhost:8080/"
        },
        "outputId": "218a193a-5453-4e77-c4d5-1e5e0496cf40"
      },
      "outputs": [
        {
          "output_type": "stream",
          "name": "stdout",
          "text": [
            "\n",
            "Test set: Average loss: 0.0106, Accuracy: 8798/10000 (88%)\n",
            "\n"
          ]
        }
      ],
      "source": [
        "_ = validate(criterion, model, val_loader)"
      ]
    },
    {
      "cell_type": "markdown",
      "metadata": {
        "id": "xIYShV6MCN9z"
      },
      "source": [
        "<font color=\"blue\">**Exercise 6**: Try to improve the Accuracy of your model on the validation set by adding more layers and/or more hidden units in you model. For example you can use a MLP with 2 hidden layers with 512 and 256 units respectively. You can also consider changing the batch size and learning rate if needed.</font>"
      ]
    },
    {
      "cell_type": "code",
      "source": [
        "train_loader = torch.utils.data.DataLoader(train_set, batch_size = 32, shuffle=True, num_workers=5)\n",
        "val_loader = torch.utils.data.DataLoader(val_set, batch_size = 32, shuffle=True, num_workers=5)"
      ],
      "metadata": {
        "colab": {
          "base_uri": "https://localhost:8080/"
        },
        "id": "pBfGj7U3gjEd",
        "outputId": "abddee02-04af-4a36-fef2-aca62440e2be"
      },
      "execution_count": 72,
      "outputs": [
        {
          "output_type": "stream",
          "name": "stderr",
          "text": [
            "/usr/local/lib/python3.9/dist-packages/torch/utils/data/dataloader.py:554: UserWarning: This DataLoader will create 5 worker processes in total. Our suggested max number of worker in current system is 2, which is smaller than what this DataLoader is going to create. Please be aware that excessive worker creation might get DataLoader running slow or even freeze, lower the worker number to avoid potential slowness/freeze if necessary.\n",
            "  warnings.warn(_create_warning_msg(\n"
          ]
        }
      ]
    },
    {
      "cell_type": "code",
      "execution_count": 73,
      "metadata": {
        "id": "WWK9OP6m1niA"
      },
      "outputs": [],
      "source": [
        "# Your Code Here\n",
        "class FCModel(nn.Module):\n",
        "    def __init__(self, input_size, hidden_size1, hidden_size2, output_size):\n",
        "        super(FCModel, self).__init__()\n",
        "        self.input_size = input_size\n",
        "        self.network = nn.Sequential(\n",
        "            nn.Linear(input_size, hidden_size1),\n",
        "            nn.ReLU(),\n",
        "            nn.Linear(hidden_size1, hidden_size2),\n",
        "            nn.ReLU(),\n",
        "            nn.Linear(hidden_size2, output_size)\n",
        "        )\n",
        "\n",
        "    def forward(self, x):\n",
        "        x = x.view(-1, self.input_size)\n",
        "        return self.network(x)"
      ]
    },
    {
      "cell_type": "code",
      "source": [
        "input_size  = 28*28   # images are 28x28 pixels\n",
        "output_size = 10      # there are 10 classes\n",
        "\n",
        "learning_rate = 1e-3\n",
        "lambda_l2 = 1e-5\n",
        "torch.manual_seed(0)\n",
        "\n",
        "model = FCModel(input_size, 512, 256, output_size)\n",
        "\n",
        "# move model to gpu if available\n",
        "model.to(device)\n",
        "\n",
        "# nn package also has different loss functions.\n",
        "# we use cross entropy loss for our classification task\n",
        "criterion = torch.nn.CrossEntropyLoss() # https://pytorch.org/docs/stable/generated/torch.nn.CrossEntropyLoss.html#torch.nn.CrossEntropyLoss\n",
        "\n",
        "# we use the optim package to apply\n",
        "# stochastic gradient descent for our parameter updates\n",
        "optimizer = torch.optim.SGD(model.parameters(), lr=learning_rate, momentum=0.9, weight_decay=lambda_l2) # built-in L2\n",
        "\n",
        "# WARNING! What are we doing here? | weitghs: ones, bias: zeros\n",
        "initialize_parameters(model)"
      ],
      "metadata": {
        "id": "xhictUhVDv3V"
      },
      "execution_count": 74,
      "outputs": []
    },
    {
      "cell_type": "code",
      "source": [
        "losses = {\"train\": [], \"val\": []}\n",
        "for epoch in range(10):\n",
        "\n",
        "    train_loss = train(epoch, criterion, model, optimizer, train_loader)\n",
        "    val_loss = validate(criterion, model, val_loader)\n",
        "    losses[\"train\"].append(train_loss)\n",
        "    losses[\"val\"].append(val_loss)\n",
        "    \n",
        "    display.clear_output(wait=True)\n",
        "\n",
        "    plt.plot(losses[\"train\"], label=\"training loss\")\n",
        "    plt.plot(losses[\"val\"], label=\"validation loss\")\n",
        "\n",
        "    plt.legend()\n",
        "    plt.pause(0.000001)\n",
        "    plt.show()   "
      ],
      "metadata": {
        "id": "J5UR3ik8yueL",
        "colab": {
          "base_uri": "https://localhost:8080/",
          "height": 265
        },
        "outputId": "56c8f4d9-062b-4ebe-e47f-dff3cc13cba6"
      },
      "execution_count": 75,
      "outputs": [
        {
          "output_type": "display_data",
          "data": {
            "text/plain": [
              "<Figure size 432x288 with 1 Axes>"
            ],
            "image/png": "[encoded data removed]"
          },
          "metadata": {
            "needs_background": "light"
          }
        }
      ]
    },
    {
      "cell_type": "code",
      "execution_count": 76,
      "metadata": {
        "id": "h5qQUDJL1niA",
        "colab": {
          "base_uri": "https://localhost:8080/"
        },
        "outputId": "3c58cd75-520e-494e-f3c0-03d1b819ef43"
      },
      "outputs": [
        {
          "output_type": "stream",
          "name": "stdout",
          "text": [
            "\n",
            "Test set: Average loss: 0.0104, Accuracy: 8780/10000 (88%)\n",
            "\n"
          ]
        }
      ],
      "source": [
        "# evaluate the trained model on the validation set\n",
        "_ = validate(criterion, model, val_loader)"
      ]
    },
    {
      "cell_type": "markdown",
      "metadata": {
        "id": "b61J-XQ8CPiW"
      },
      "source": [
        "<font color=\"blue\">**Exercise 7**: Try at least two different [optimizers](https://pytorch.org/docs/stable/optim.html#algorithms) (e.g. SGD with momentum, RMSProp, Adam, etc.) and plot **in a single matplotlib figure** the loss curves for training the model with them. We want them in a single figure to be able to easily compare the three learning curves.</font>"
      ]
    },
    {
      "cell_type": "code",
      "source": [
        "# Your Code Here\n",
        "class FCModel(nn.Module):\n",
        "    def __init__(self, input_size, hidden_size, output_size):\n",
        "        super(FCModel, self).__init__()\n",
        "        self.input_size = input_size\n",
        "        self.network = nn.Sequential(\n",
        "            nn.Linear(input_size, hidden_size),\n",
        "            nn.ReLU(),\n",
        "            nn.Linear(hidden_size, hidden_size),\n",
        "            nn.ReLU(),\n",
        "            nn.Linear(hidden_size, output_size)\n",
        "        )\n",
        "\n",
        "    def forward(self, x):\n",
        "        x = x.view(-1, self.input_size)\n",
        "        return self.network(x)"
      ],
      "metadata": {
        "id": "1lZt3mTXvs5A"
      },
      "execution_count": 77,
      "outputs": []
    },
    {
      "cell_type": "code",
      "source": [
        "# Your code here\n",
        "learning_rate = 1e-3\n",
        "lambda_l2 = 1e-5\n",
        "torch.manual_seed(0) # seed for reproductibility\n",
        "\n",
        "input_size  = 28*28   # images are 28x28 pixels\n",
        "output_size = 10      # there are 10 classes\n",
        "\n",
        "model = FCModel(input_size, 128, output_size)\n",
        "\n",
        "# utility function to count number of parameters in a model\n",
        "def get_n_params(model):\n",
        "    np=0\n",
        "    for p in list(model.parameters()):\n",
        "        np += p.numel()\n",
        "    return np\n",
        "\n",
        "print(f\"Number of parameters {get_n_params(model)}:\")\n",
        "\n",
        "# move model to gpu if available\n",
        "model.to(device)\n",
        "\n",
        "# nn package also has different loss functions.\n",
        "# we use cross entropy loss for our classification task\n",
        "criterion = torch.nn.CrossEntropyLoss() # https://pytorch.org/docs/stable/generated/torch.nn.CrossEntropyLoss.html#torch.nn.CrossEntropyLoss\n",
        "\n",
        "# we use the optim package to apply\n",
        "optimizer_SGD = torch.optim.SGD(model.parameters(), lr=learning_rate, momentum=0.9, weight_decay=lambda_l2) # built-in L2\n",
        "optimizer_RMS = torch.optim.RMSprop(model.parameters(), lr = 0.001)\n",
        "optimizer_Adam = torch.optim.Adam(model.parameters(), lr=learning_rate, betas=(0.9, 0.999), eps=1e-08, weight_decay=lambda_l2)\n",
        "\n",
        "\n",
        "# WARNING! What are we doing here?\n",
        "initialize_parameters(model)"
      ],
      "metadata": {
        "colab": {
          "base_uri": "https://localhost:8080/"
        },
        "id": "A0-KUdFulgGd",
        "outputId": "e6bbf135-ab4f-444d-c924-d568c1bf4eea"
      },
      "execution_count": 78,
      "outputs": [
        {
          "output_type": "stream",
          "name": "stdout",
          "text": [
            "Number of parameters 118282:\n"
          ]
        }
      ]
    },
    {
      "cell_type": "markdown",
      "source": [
        "*training loop*"
      ],
      "metadata": {
        "id": "eN8hLloPniuG"
      }
    },
    {
      "cell_type": "code",
      "source": [
        "losses_SGD = {\"trainSGD\": [], \"val\": []}\n",
        "losses_RMS = {\"trainRMS\": [], \"val\": []}\n",
        "losses_Adam = {\"trainAdam\": [], \"val\": []}\n",
        "\n",
        "for epoch in range(10):\n",
        "\n",
        "    train_loss_SGD = train(epoch, criterion, model, optimizer_SGD, train_loader)\n",
        "    train_loss_RMS = train(epoch, criterion, model, optimizer_RMS, train_loader)\n",
        "    train_loss_Adam = train(epoch, criterion, model, optimizer_Adam, train_loader)\n",
        "\n",
        "    val_loss = validate(criterion, model, val_loader)\n",
        "\n",
        "    losses_SGD[\"trainSGD\"].append(train_loss_SGD)\n",
        "    losses_RMS[\"trainRMS\"].append(train_loss_RMS)\n",
        "    losses_Adam[\"trainAdam\"].append(train_loss_Adam)\n",
        "    \n",
        "    display.clear_output(wait=True)\n",
        "\n",
        "    plt.plot(losses_SGD[\"trainSGD\"], label=\"training loss SGD\")\n",
        "    plt.plot(losses_RMS[\"trainRMS\"], label=\"taining loss RMS\")\n",
        "    plt.plot(losses_Adam[\"trainAdam\"], label=\"taining loss Adam\")\n",
        "\n",
        "    plt.legend()\n",
        "    plt.pause(0.000001)\n",
        "    plt.show()"
      ],
      "metadata": {
        "colab": {
          "base_uri": "https://localhost:8080/",
          "height": 266
        },
        "id": "H3Ur0cervz53",
        "outputId": "ad691fc3-e32c-4f72-a4c5-2aac7b11c2c2"
      },
      "execution_count": 80,
      "outputs": [
        {
          "output_type": "display_data",
          "data": {
            "text/plain": [
              "<Figure size 432x288 with 1 Axes>"
            ],
            "image/png": "[encoded data removed]"
          },
          "metadata": {
            "needs_background": "light"
          }
        }
      ]
    },
    {
      "cell_type": "markdown",
      "metadata": {
        "id": "RAPZ1Xv0CQv4"
      },
      "source": [
        "<font color=\"blue\">**Exercise 8**: Calculate the Accuracy for each individual class in the dataset and plot the [confusion matrix](https://scikit-learn.org/stable/modules/generated/sklearn.metrics.plot_confusion_matrix.html#sklearn.metrics.plot_confusion_matrix) of your trained models.</font>"
      ]
    },
    {
      "cell_type": "code",
      "execution_count": 81,
      "metadata": {
        "id": "a7mFZ1yi1niC",
        "colab": {
          "base_uri": "https://localhost:8080/",
          "height": 802
        },
        "outputId": "5b043eec-159f-4baf-e5ec-1b24f750d669"
      },
      "outputs": [
        {
          "output_type": "stream",
          "name": "stderr",
          "text": [
            "/usr/local/lib/python3.9/dist-packages/torch/utils/data/dataloader.py:554: UserWarning: This DataLoader will create 5 worker processes in total. Our suggested max number of worker in current system is 2, which is smaller than what this DataLoader is going to create. Please be aware that excessive worker creation might get DataLoader running slow or even freeze, lower the worker number to avoid potential slowness/freeze if necessary.\n",
            "  warnings.warn(_create_warning_msg(\n"
          ]
        },
        {
          "output_type": "stream",
          "name": "stdout",
          "text": [
            "Accuracy for each class:\n",
            "Class 0: 85.71%\n",
            "Class 1: 96.88%\n",
            "Class 2: 88.00%\n",
            "Class 3: 94.29%\n",
            "Class 4: 76.47%\n",
            "Class 5: 96.30%\n",
            "Class 6: 80.00%\n",
            "Class 7: 93.94%\n",
            "Class 8: 95.45%\n",
            "Class 9: 93.18%\n"
          ]
        },
        {
          "output_type": "display_data",
          "data": {
            "text/plain": [
              "<Figure size 576x576 with 2 Axes>"
            ],
            "image/png": "[encoded data removed]"
          },
          "metadata": {
            "needs_background": "light"
          }
        }
      ],
      "source": [
        "# Your code here\n",
        "\n",
        "from sklearn.metrics import confusion_matrix\n",
        "import seaborn as sns\n",
        "\n",
        "lpredictions=[]\n",
        "ltrue=[]\n",
        "with torch.no_grad():\n",
        "\n",
        "  for epoch in range(10):\n",
        "\n",
        "    data, target = next(iter(val_loader))\n",
        "    data, target = data.to(device), target.to(device)\n",
        "    data = data.view(-1, 28*28)\n",
        "    output = model(data)\n",
        "    predictions = np.argmax(output.cpu().numpy(), axis=1)\n",
        "    true = target.cpu().numpy()\n",
        "    lpredictions.append(predictions)\n",
        "    ltrue.append(true)\n",
        "\n",
        "ltrue = np.concatenate(ltrue,axis=0)\n",
        "lpredictions = np.concatenate(lpredictions,axis=0)\n",
        "\n",
        "c_acc=[]\n",
        "\n",
        "for i in range(10):\n",
        "  class_i= np.where(ltrue == i)[0]\n",
        "  class_predictions= lpredictions[class_i]\n",
        "  tc= ltrue[class_i]\n",
        "  c_acc.append((class_predictions == tc).mean()) \n",
        "\n",
        "print(\"Accuracy for each class:\")\n",
        "\n",
        "for i in range(10):\n",
        "\n",
        "    print(\"Class {}: {:.2f}%\".format(i, c_acc[i]*100))\n",
        "\n",
        "labels = [\"T-shirt/top\", \"Trouser\", \"Pullover\", \"Dress\", \"Coat\",\n",
        "          \"Sandal\", \"Shirt\", \"Sneaker\", \"Bag\", \"Ankle boot\"]\n",
        "\n",
        "cm = confusion_matrix(ltrue, lpredictions)\n",
        "plt.figure(figsize=(8,8))\n",
        "sns.heatmap(cm, annot=True, fmt='d', cmap='Blues', xticklabels=labels, yticklabels=labels)\n",
        "\n",
        "plt.title(\"Confusion Matrix\")\n",
        "plt.xlabel(\"Predicted Label\")\n",
        "plt.ylabel(\"True Label\")\n",
        "plt.show()"
      ]
    }
  ],
  "metadata": {
    "accelerator": "GPU",
    "colab": {
      "provenance": []
    },
    "kernelspec": {
      "display_name": "PyTorch-GPU",
      "language": "python",
      "name": "pytorch-gpu"
    },
    "language_info": {
      "codemirror_mode": {
        "name": "ipython",
        "version": 3
      },
      "file_extension": ".py",
      "mimetype": "text/x-python",
      "name": "python",
      "nbconvert_exporter": "python",
      "pygments_lexer": "ipython3",
      "version": "3.7.4"
    },
    "gpuClass": "standard"
  },
  "nbformat": 4,
  "nbformat_minor": 0
}